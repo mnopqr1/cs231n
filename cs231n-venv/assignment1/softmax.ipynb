{
 "cells": [
  {
   "cell_type": "markdown",
   "metadata": {
    "tags": [
     "pdf-title"
    ]
   },
   "source": [
    "# Softmax exercise\n",
    "\n",
    "*Complete and hand in this completed worksheet (including its outputs and any supporting code outside of the worksheet) with your assignment submission. For more details see the [assignments page](http://vision.stanford.edu/teaching/cs231n/assignments.html) on the course website.*\n",
    "\n",
    "This exercise is analogous to the SVM exercise. You will:\n",
    "\n",
    "- implement a fully-vectorized **loss function** for the Softmax classifier\n",
    "- implement the fully-vectorized expression for its **analytic gradient**\n",
    "- **check your implementation** with numerical gradient\n",
    "- use a validation set to **tune the learning rate and regularization** strength\n",
    "- **optimize** the loss function with **SGD**\n",
    "- **visualize** the final learned weights\n"
   ]
  },
  {
   "cell_type": "code",
   "execution_count": 2,
   "metadata": {
    "tags": [
     "pdf-ignore"
    ]
   },
   "outputs": [],
   "source": [
    "import random\n",
    "import numpy as np\n",
    "from cs231n.data_utils import load_CIFAR10\n",
    "import matplotlib.pyplot as plt\n",
    "\n",
    "%matplotlib inline\n",
    "plt.rcParams['figure.figsize'] = (10.0, 8.0) # set default size of plots\n",
    "plt.rcParams['image.interpolation'] = 'nearest'\n",
    "plt.rcParams['image.cmap'] = 'gray'\n",
    "\n",
    "# for auto-reloading extenrnal modules\n",
    "# see http://stackoverflow.com/questions/1907993/autoreload-of-modules-in-ipython\n",
    "%load_ext autoreload\n",
    "%autoreload 2"
   ]
  },
  {
   "cell_type": "code",
   "execution_count": 3,
   "metadata": {
    "tags": [
     "pdf-ignore"
    ]
   },
   "outputs": [
    {
     "name": "stdout",
     "output_type": "stream",
     "text": [
      "Train data shape:  (49000, 3073)\n",
      "Train labels shape:  (49000,)\n",
      "Validation data shape:  (1000, 3073)\n",
      "Validation labels shape:  (1000,)\n",
      "Test data shape:  (1000, 3073)\n",
      "Test labels shape:  (1000,)\n",
      "dev data shape:  (500, 3073)\n",
      "dev labels shape:  (500,)\n"
     ]
    }
   ],
   "source": [
    "def get_CIFAR10_data(num_training=49000, num_validation=1000, num_test=1000, num_dev=500):\n",
    "    \"\"\"\n",
    "    Load the CIFAR-10 dataset from disk and perform preprocessing to prepare\n",
    "    it for the linear classifier. These are the same steps as we used for the\n",
    "    SVM, but condensed to a single function.  \n",
    "    \"\"\"\n",
    "    # Load the raw CIFAR-10 data\n",
    "    cifar10_dir = 'cs231n/datasets/cifar-10-batches-py'\n",
    "    \n",
    "    # Cleaning up variables to prevent loading data multiple times (which may cause memory issue)\n",
    "    try:\n",
    "       del X_train, y_train\n",
    "       del X_test, y_test\n",
    "       print('Clear previously loaded data.')\n",
    "    except:\n",
    "       pass\n",
    "\n",
    "    X_train, y_train, X_test, y_test = load_CIFAR10(cifar10_dir)\n",
    "    \n",
    "    # subsample the data\n",
    "    mask = list(range(num_training, num_training + num_validation))\n",
    "    X_val = X_train[mask]\n",
    "    y_val = y_train[mask]\n",
    "    mask = list(range(num_training))\n",
    "    X_train = X_train[mask]\n",
    "    y_train = y_train[mask]\n",
    "    mask = list(range(num_test))\n",
    "    X_test = X_test[mask]\n",
    "    y_test = y_test[mask]\n",
    "    mask = np.random.choice(num_training, num_dev, replace=False)\n",
    "    X_dev = X_train[mask]\n",
    "    y_dev = y_train[mask]\n",
    "    \n",
    "    # Preprocessing: reshape the image data into rows\n",
    "    X_train = np.reshape(X_train, (X_train.shape[0], -1))\n",
    "    X_val = np.reshape(X_val, (X_val.shape[0], -1))\n",
    "    X_test = np.reshape(X_test, (X_test.shape[0], -1))\n",
    "    X_dev = np.reshape(X_dev, (X_dev.shape[0], -1))\n",
    "    \n",
    "    # Normalize the data: subtract the mean image\n",
    "    mean_image = np.mean(X_train, axis = 0)\n",
    "    X_train -= mean_image\n",
    "    X_val -= mean_image\n",
    "    X_test -= mean_image\n",
    "    X_dev -= mean_image\n",
    "    \n",
    "    # add bias dimension and transform into columns\n",
    "    X_train = np.hstack([X_train, np.ones((X_train.shape[0], 1))])\n",
    "    X_val = np.hstack([X_val, np.ones((X_val.shape[0], 1))])\n",
    "    X_test = np.hstack([X_test, np.ones((X_test.shape[0], 1))])\n",
    "    X_dev = np.hstack([X_dev, np.ones((X_dev.shape[0], 1))])\n",
    "    \n",
    "    return X_train, y_train, X_val, y_val, X_test, y_test, X_dev, y_dev\n",
    "\n",
    "\n",
    "# Invoke the above function to get our data.\n",
    "X_train, y_train, X_val, y_val, X_test, y_test, X_dev, y_dev = get_CIFAR10_data()\n",
    "print('Train data shape: ', X_train.shape)\n",
    "print('Train labels shape: ', y_train.shape)\n",
    "print('Validation data shape: ', X_val.shape)\n",
    "print('Validation labels shape: ', y_val.shape)\n",
    "print('Test data shape: ', X_test.shape)\n",
    "print('Test labels shape: ', y_test.shape)\n",
    "print('dev data shape: ', X_dev.shape)\n",
    "print('dev labels shape: ', y_dev.shape)"
   ]
  },
  {
   "cell_type": "markdown",
   "metadata": {},
   "source": [
    "## Softmax Classifier\n",
    "\n",
    "Your code for this section will all be written inside `cs231n/classifiers/softmax.py`.\n"
   ]
  },
  {
   "cell_type": "code",
   "execution_count": 4,
   "metadata": {},
   "outputs": [
    {
     "name": "stdout",
     "output_type": "stream",
     "text": [
      "loss: 2.307870\n",
      "sanity check: 2.302585\n"
     ]
    }
   ],
   "source": [
    "# First implement the naive softmax loss function with nested loops.\n",
    "# Open the file cs231n/classifiers/softmax.py and implement the\n",
    "# softmax_loss_naive function.\n",
    "\n",
    "from cs231n.classifiers.softmax import softmax_loss_naive\n",
    "import time\n",
    "\n",
    "# Generate a random softmax weight matrix and use it to compute the loss.\n",
    "W = np.random.randn(3073, 10) * 0.0001\n",
    "loss, grad = softmax_loss_naive(W, X_dev, y_dev, 0.0)\n",
    "\n",
    "# As a rough sanity check, our loss should be something close to -log(0.1).\n",
    "print('loss: %f' % loss)\n",
    "print('sanity check: %f' % (-np.log(0.1)))"
   ]
  },
  {
   "cell_type": "markdown",
   "metadata": {
    "tags": [
     "pdf-inline"
    ]
   },
   "source": [
    "**Inline Question 1**\n",
    "\n",
    "Why do we expect our loss to be close to -log(0.1)? Explain briefly.**\n",
    "\n",
    "$\\color{blue}{\\textit Your Answer:}$ The weight matrix is random, so we expect to be correct in 1/10 cases. Loss is -log of the probability of being correct.\n",
    "\n"
   ]
  },
  {
   "cell_type": "code",
   "execution_count": 5,
   "metadata": {},
   "outputs": [
    {
     "name": "stdout",
     "output_type": "stream",
     "text": [
      "numerical: 0.668439 analytic: 0.668439, relative error: 4.705155e-08\n",
      "numerical: -0.111301 analytic: -0.111301, relative error: 1.808508e-08\n",
      "numerical: 1.225750 analytic: 1.225750, relative error: 4.309154e-09\n",
      "numerical: 1.264723 analytic: 1.264723, relative error: 1.721257e-08\n",
      "numerical: -0.536987 analytic: -0.536987, relative error: 5.098805e-08\n",
      "numerical: 1.496200 analytic: 1.496200, relative error: 3.802141e-09\n",
      "numerical: -2.736119 analytic: -2.736119, relative error: 1.876375e-09\n",
      "numerical: -1.022938 analytic: -1.022938, relative error: 5.269999e-08\n",
      "numerical: -0.260416 analytic: -0.260416, relative error: 1.660896e-07\n",
      "numerical: -1.069204 analytic: -1.069204, relative error: 1.046234e-08\n",
      "numerical: -0.264975 analytic: -0.264975, relative error: 7.336297e-08\n",
      "numerical: 2.378361 analytic: 2.378361, relative error: 3.319715e-09\n",
      "numerical: -0.091937 analytic: -0.091937, relative error: 1.879919e-07\n",
      "numerical: 1.550982 analytic: 1.550982, relative error: 1.914389e-08\n",
      "numerical: 0.130457 analytic: 0.130457, relative error: 2.421704e-07\n",
      "numerical: 0.759206 analytic: 0.759206, relative error: 2.672404e-08\n",
      "numerical: -2.126907 analytic: -2.126907, relative error: 3.570353e-08\n",
      "numerical: 0.509917 analytic: 0.509917, relative error: 6.228286e-09\n",
      "numerical: 4.016693 analytic: 4.016693, relative error: 1.364695e-08\n",
      "numerical: -0.363468 analytic: -0.363468, relative error: 3.554263e-07\n"
     ]
    }
   ],
   "source": [
    "# Complete the implementation of softmax_loss_naive and implement a (naive)\n",
    "# version of the gradient that uses nested loops.\n",
    "loss, grad = softmax_loss_naive(W, X_dev, y_dev, 0.0)\n",
    "\n",
    "# As we did for the SVM, use numeric gradient checking as a debugging tool.\n",
    "# The numeric gradient should be close to the analytic gradient.\n",
    "from cs231n.gradient_check import grad_check_sparse\n",
    "f = lambda w: softmax_loss_naive(w, X_dev, y_dev, 0.0)[0]\n",
    "grad_numerical = grad_check_sparse(f, W, grad, 10)\n",
    "\n",
    "# similar to SVM case, do another gradient check with regularization\n",
    "loss, grad = softmax_loss_naive(W, X_dev, y_dev, 5e1)\n",
    "f = lambda w: softmax_loss_naive(w, X_dev, y_dev, 5e1)[0]\n",
    "grad_numerical = grad_check_sparse(f, W, grad, 10)"
   ]
  },
  {
   "cell_type": "code",
   "execution_count": 6,
   "metadata": {},
   "outputs": [
    {
     "name": "stdout",
     "output_type": "stream",
     "text": [
      "naive loss: 2.307870e+00 computed in 0.124074s\n",
      "vectorized loss: 2.307870e+00 computed in 0.007811s\n",
      "Loss difference: 0.000000\n",
      "Gradient difference: 0.000000\n"
     ]
    }
   ],
   "source": [
    "# Now that we have a naive implementation of the softmax loss function and its gradient,\n",
    "# implement a vectorized version in softmax_loss_vectorized.\n",
    "# The two versions should compute the same results, but the vectorized version should be\n",
    "# much faster.\n",
    "tic = time.time()\n",
    "loss_naive, grad_naive = softmax_loss_naive(W, X_dev, y_dev, 0.000005)\n",
    "toc = time.time()\n",
    "print('naive loss: %e computed in %fs' % (loss_naive, toc - tic))\n",
    "\n",
    "from cs231n.classifiers.softmax import softmax_loss_vectorized\n",
    "tic = time.time()\n",
    "loss_vectorized, grad_vectorized = softmax_loss_vectorized(W, X_dev, y_dev, 0.000005)\n",
    "toc = time.time()\n",
    "print('vectorized loss: %e computed in %fs' % (loss_vectorized, toc - tic))\n",
    "\n",
    "# As we did for the SVM, we use the Frobenius norm to compare the two versions\n",
    "# of the gradient.\n",
    "grad_difference = np.linalg.norm(grad_naive - grad_vectorized, ord='fro')\n",
    "print('Loss difference: %f' % np.abs(loss_naive - loss_vectorized))\n",
    "print('Gradient difference: %f' % grad_difference)"
   ]
  },
  {
   "cell_type": "code",
   "execution_count": 25,
   "metadata": {
    "id": "tuning",
    "tags": [
     "code"
    ]
   },
   "outputs": [
    {
     "name": "stdout",
     "output_type": "stream",
     "text": [
      "learning rate: 3e-06, regularization strength: 10000.0\n",
      "iteration 0 / 1500: loss 314.460615\n",
      "iteration 100 / 1500: loss 302.872947\n",
      "iteration 200 / 1500: loss 298.092408\n",
      "iteration 300 / 1500: loss 294.132183\n",
      "iteration 400 / 1500: loss 291.474527\n",
      "iteration 500 / 1500: loss 288.873330\n",
      "iteration 600 / 1500: loss 286.630823\n",
      "iteration 700 / 1500: loss 284.807864\n",
      "iteration 800 / 1500: loss 283.074916\n",
      "iteration 900 / 1500: loss 281.471887\n",
      "iteration 1000 / 1500: loss 279.937937\n",
      "iteration 1100 / 1500: loss 278.763342\n",
      "iteration 1200 / 1500: loss 277.406097\n",
      "iteration 1300 / 1500: loss 276.353747\n",
      "iteration 1400 / 1500: loss 275.145972\n",
      "training accuracy: 0.38195918367346937, validation accuracy: 0.369\n",
      "learning rate: 3e-06, regularization strength: 20000.0\n",
      "iteration 0 / 1500: loss 627.509226\n",
      "iteration 100 / 1500: loss 607.789687\n",
      "iteration 200 / 1500: loss 597.732793\n",
      "iteration 300 / 1500: loss 590.767805\n",
      "iteration 400 / 1500: loss 584.830303\n",
      "iteration 500 / 1500: loss 579.463424\n",
      "iteration 600 / 1500: loss 575.059042\n",
      "iteration 700 / 1500: loss 571.277468\n",
      "iteration 800 / 1500: loss 567.584315\n",
      "iteration 900 / 1500: loss 563.974379\n",
      "iteration 1000 / 1500: loss 561.099301\n",
      "iteration 1100 / 1500: loss 558.289356\n",
      "iteration 1200 / 1500: loss 555.969387\n",
      "iteration 1300 / 1500: loss 553.677875\n",
      "iteration 1400 / 1500: loss 551.247059\n",
      "training accuracy: 0.3809183673469388, validation accuracy: 0.36\n",
      "learning rate: 3e-06, regularization strength: 30000.0\n",
      "iteration 0 / 1500: loss 917.124890\n",
      "iteration 100 / 1500: loss 889.023305\n",
      "iteration 200 / 1500: loss 875.091800\n",
      "iteration 300 / 1500: loss 864.769152\n",
      "iteration 400 / 1500: loss 856.060686\n",
      "iteration 500 / 1500: loss 848.518760\n",
      "iteration 600 / 1500: loss 841.934955\n",
      "iteration 700 / 1500: loss 836.064397\n",
      "iteration 800 / 1500: loss 830.628969\n",
      "iteration 900 / 1500: loss 825.883802\n",
      "iteration 1000 / 1500: loss 821.614725\n",
      "iteration 1100 / 1500: loss 817.494627\n",
      "iteration 1200 / 1500: loss 813.731111\n",
      "iteration 1300 / 1500: loss 810.111091\n",
      "iteration 1400 / 1500: loss 806.994600\n",
      "training accuracy: 0.3885918367346939, validation accuracy: 0.376\n",
      "learning rate: 5e-06, regularization strength: 10000.0\n",
      "iteration 0 / 1500: loss 316.610405\n",
      "iteration 100 / 1500: loss 300.542799\n",
      "iteration 200 / 1500: loss 294.219884\n",
      "iteration 300 / 1500: loss 290.237864\n",
      "iteration 400 / 1500: loss 286.620366\n",
      "iteration 500 / 1500: loss 283.815205\n",
      "iteration 600 / 1500: loss 280.997002\n",
      "iteration 700 / 1500: loss 278.678550\n",
      "iteration 800 / 1500: loss 277.033975\n",
      "iteration 900 / 1500: loss 275.283798\n",
      "iteration 1000 / 1500: loss 273.608072\n",
      "iteration 1100 / 1500: loss 271.902170\n",
      "iteration 1200 / 1500: loss 270.505104\n",
      "iteration 1300 / 1500: loss 269.449120\n",
      "iteration 1400 / 1500: loss 268.281622\n",
      "training accuracy: 0.38646938775510203, validation accuracy: 0.372\n",
      "learning rate: 5e-06, regularization strength: 20000.0\n",
      "iteration 0 / 1500: loss 618.477284\n",
      "iteration 100 / 1500: loss 593.551924\n",
      "iteration 200 / 1500: loss 581.766020\n",
      "iteration 300 / 1500: loss 573.567092\n",
      "iteration 400 / 1500: loss 566.805797\n",
      "iteration 500 / 1500: loss 560.987279\n",
      "iteration 600 / 1500: loss 556.195739\n",
      "iteration 700 / 1500: loss 552.149585\n",
      "iteration 800 / 1500: loss 548.219448\n",
      "iteration 900 / 1500: loss 544.782801\n",
      "iteration 1000 / 1500: loss 541.729811\n",
      "iteration 1100 / 1500: loss 538.909729\n",
      "iteration 1200 / 1500: loss 536.685077\n",
      "iteration 1300 / 1500: loss 534.143346\n",
      "iteration 1400 / 1500: loss 531.913948\n",
      "training accuracy: 0.39381632653061227, validation accuracy: 0.36\n",
      "learning rate: 5e-06, regularization strength: 30000.0\n",
      "iteration 0 / 1500: loss 928.549353\n",
      "iteration 100 / 1500: loss 888.921067\n",
      "iteration 200 / 1500: loss 870.085787\n",
      "iteration 300 / 1500: loss 856.634578\n",
      "iteration 400 / 1500: loss 845.760342\n",
      "iteration 500 / 1500: loss 836.390951\n",
      "iteration 600 / 1500: loss 828.589658\n",
      "iteration 700 / 1500: loss 821.798907\n",
      "iteration 800 / 1500: loss 816.450914\n",
      "iteration 900 / 1500: loss 810.848236\n",
      "iteration 1000 / 1500: loss 805.534740\n",
      "iteration 1100 / 1500: loss 801.545724\n",
      "iteration 1200 / 1500: loss 797.714871\n",
      "iteration 1300 / 1500: loss 793.814376\n",
      "iteration 1400 / 1500: loss 790.470224\n",
      "training accuracy: 0.38855102040816325, validation accuracy: 0.356\n",
      "learning rate: 1e-05, regularization strength: 10000.0\n",
      "iteration 0 / 1500: loss 311.507269\n",
      "iteration 100 / 1500: loss 295.247125\n",
      "iteration 200 / 1500: loss 289.570175\n",
      "iteration 300 / 1500: loss 286.716440\n",
      "iteration 400 / 1500: loss 282.912760\n",
      "iteration 500 / 1500: loss 282.003424\n",
      "iteration 600 / 1500: loss 279.138191\n",
      "iteration 700 / 1500: loss 276.865453\n",
      "iteration 800 / 1500: loss 276.244716\n",
      "iteration 900 / 1500: loss 275.957176\n",
      "iteration 1000 / 1500: loss 275.358843\n",
      "iteration 1100 / 1500: loss 276.100023\n",
      "iteration 1200 / 1500: loss 273.435484\n",
      "iteration 1300 / 1500: loss 273.749225\n",
      "iteration 1400 / 1500: loss 275.579282\n",
      "training accuracy: 0.32512244897959186, validation accuracy: 0.305\n",
      "learning rate: 1e-05, regularization strength: 20000.0\n",
      "iteration 0 / 1500: loss 621.086302\n",
      "iteration 100 / 1500: loss 589.672185\n",
      "iteration 200 / 1500: loss 578.678022\n",
      "iteration 300 / 1500: loss 571.064254\n",
      "iteration 400 / 1500: loss 565.843101\n",
      "iteration 500 / 1500: loss 560.171895\n",
      "iteration 600 / 1500: loss 556.022361\n",
      "iteration 700 / 1500: loss 554.172040\n",
      "iteration 800 / 1500: loss 551.443435\n",
      "iteration 900 / 1500: loss 550.779877\n",
      "iteration 1000 / 1500: loss 548.692304\n",
      "iteration 1100 / 1500: loss 547.682825\n",
      "iteration 1200 / 1500: loss 546.306431\n",
      "iteration 1300 / 1500: loss 547.299188\n",
      "iteration 1400 / 1500: loss 546.017794\n",
      "training accuracy: 0.33353061224489794, validation accuracy: 0.325\n",
      "learning rate: 1e-05, regularization strength: 30000.0\n",
      "iteration 0 / 1500: loss 943.723729\n",
      "iteration 100 / 1500: loss 901.139395\n",
      "iteration 200 / 1500: loss 881.861453\n",
      "iteration 300 / 1500: loss 871.360120\n",
      "iteration 400 / 1500: loss 864.761166\n",
      "iteration 500 / 1500: loss 856.168107\n",
      "iteration 600 / 1500: loss 851.508681\n",
      "iteration 700 / 1500: loss 847.239623\n",
      "iteration 800 / 1500: loss 843.147830\n",
      "iteration 900 / 1500: loss 840.416433\n",
      "iteration 1000 / 1500: loss 838.937586\n",
      "iteration 1100 / 1500: loss 836.493092\n",
      "iteration 1200 / 1500: loss 836.792737\n",
      "iteration 1300 / 1500: loss 833.500646\n",
      "iteration 1400 / 1500: loss 833.232896\n",
      "training accuracy: 0.3256938775510204, validation accuracy: 0.299\n",
      "lr 3.000000e-06 reg 1.000000e+04 train accuracy: 0.381959 val accuracy: 0.369000\n",
      "lr 3.000000e-06 reg 2.000000e+04 train accuracy: 0.380918 val accuracy: 0.360000\n",
      "lr 3.000000e-06 reg 3.000000e+04 train accuracy: 0.388592 val accuracy: 0.376000\n",
      "lr 5.000000e-06 reg 1.000000e+04 train accuracy: 0.386469 val accuracy: 0.372000\n",
      "lr 5.000000e-06 reg 2.000000e+04 train accuracy: 0.393816 val accuracy: 0.360000\n",
      "lr 5.000000e-06 reg 3.000000e+04 train accuracy: 0.388551 val accuracy: 0.356000\n",
      "lr 1.000000e-05 reg 1.000000e+04 train accuracy: 0.325122 val accuracy: 0.305000\n",
      "lr 1.000000e-05 reg 2.000000e+04 train accuracy: 0.333531 val accuracy: 0.325000\n",
      "lr 1.000000e-05 reg 3.000000e+04 train accuracy: 0.325694 val accuracy: 0.299000\n",
      "best validation accuracy achieved during cross-validation: 0.376000\n"
     ]
    }
   ],
   "source": [
    "# Use the validation set to tune hyperparameters (regularization strength and\n",
    "# learning rate). You should experiment with different ranges for the learning\n",
    "# rates and regularization strengths; if you are careful you should be able to\n",
    "# get a classification accuracy of over 0.35 on the validation set.\n",
    "\n",
    "from cs231n.classifiers import Softmax\n",
    "results = {}\n",
    "best_val = -1\n",
    "best_softmax = None\n",
    "\n",
    "################################################################################\n",
    "# TODO:                                                                        #\n",
    "# Use the validation set to set the learning rate and regularization strength. #\n",
    "# This should be identical to the validation that you did for the SVM; save    #\n",
    "# the best trained softmax classifer in best_softmax.                          #\n",
    "################################################################################\n",
    "\n",
    "# Provided as a reference. You may or may not want to change these hyperparameters\n",
    "learning_rates = [3e-6, 5e-6, 1e-5]\n",
    "regularization_strengths = [1e4,2e4,3e4]#, 5e4]\n",
    "\n",
    "# From my SVM work:\n",
    "# learning_rates = [1e-7, 1.25e-7, 1.5e-7]\n",
    "# bigger learning rates tried, not better: 2e-7, 3e-7, 5e-5 (this led to divergence)\n",
    "# regularization_strengths = [2.5e4, 3e4]\n",
    "\n",
    "# *****START OF YOUR CODE (DO NOT DELETE/MODIFY THIS LINE)*****\n",
    "\n",
    "import itertools\n",
    "import copy\n",
    "N_ITERS = 1500\n",
    "DEBUG = True\n",
    "\n",
    "for (lr, rs) in itertools.product(learning_rates, regularization_strengths):\n",
    "    print(f\"learning rate: {lr}, regularization strength: {rs}\")\n",
    "    softmax = Softmax() # start over\n",
    "    loss_hist = softmax.train(X_train, y_train, learning_rate=lr, reg=rs,\n",
    "                      num_iters=N_ITERS, verbose=DEBUG)\n",
    "    y_train_pred = softmax.predict(X_train)\n",
    "    y_val_pred = softmax.predict(X_val)\n",
    "    \n",
    "    train_acc = np.mean(y_train == y_train_pred)\n",
    "    val_acc = np.mean(y_val == y_val_pred)\n",
    "    \n",
    "    results[(lr,rs)] = (train_acc, val_acc)\n",
    "    print(f\"training accuracy: {train_acc}, validation accuracy: {val_acc}\")\n",
    "    \n",
    "    if best_val < val_acc:\n",
    "        best_val = val_acc\n",
    "        best_softmax = copy.deepcopy(softmax)\n",
    "\n",
    "# *****END OF YOUR CODE (DO NOT DELETE/MODIFY THIS LINE)*****\n",
    "    \n",
    "# Print out results.\n",
    "for lr, reg in sorted(results):\n",
    "    train_accuracy, val_accuracy = results[(lr, reg)]\n",
    "    print('lr %e reg %e train accuracy: %f val accuracy: %f' % (\n",
    "                lr, reg, train_accuracy, val_accuracy))\n",
    "    \n",
    "print('best validation accuracy achieved during cross-validation: %f' % best_val)"
   ]
  },
  {
   "cell_type": "code",
   "execution_count": 26,
   "metadata": {
    "id": "test"
   },
   "outputs": [
    {
     "name": "stdout",
     "output_type": "stream",
     "text": [
      "softmax on raw pixels final test set accuracy: 0.376000\n"
     ]
    }
   ],
   "source": [
    "# evaluate on test set\n",
    "# Evaluate the best softmax on test set\n",
    "y_test_pred = best_softmax.predict(X_test)\n",
    "test_accuracy = np.mean(y_test == y_test_pred)\n",
    "print('softmax on raw pixels final test set accuracy: %f' % (test_accuracy, ))"
   ]
  },
  {
   "cell_type": "markdown",
   "metadata": {
    "tags": [
     "pdf-inline"
    ]
   },
   "source": [
    "**Inline Question 2** - *True or False*\n",
    "\n",
    "Suppose the overall training loss is defined as the sum of the per-datapoint loss over all training examples. It is possible to add a new datapoint to a training set that would leave the SVM loss unchanged, but this is not the case with the Softmax classifier loss.\n",
    "\n",
    "$\\color{blue}{\\textit Your Answer:}$ True\n",
    "\n",
    "\n",
    "$\\color{blue}{\\textit Your Explanation:}$ If you add a datapoint where the SVM classifier is \"lucky\" and already picks out the right class with a good enough score, then its loss on that training example will be 0 so the overall training loss won't change. The Softmax classifier loss will always increase slightly, because the loss per training example is never exactly 0. The Softmax classifier is \"always trying to improve\".\n",
    "\n"
   ]
  },
  {
   "cell_type": "code",
   "execution_count": 27,
   "metadata": {},
   "outputs": [
    {
     "data": {
      "image/png": "[encoded data removed]",
      "text/plain": [
       "<Figure size 432x288 with 10 Axes>"
      ]
     },
     "metadata": {
      "needs_background": "light"
     },
     "output_type": "display_data"
    }
   ],
   "source": [
    "# Visualize the learned weights for each class\n",
    "w = best_softmax.W[:-1,:] # strip out the bias\n",
    "w = w.reshape(32, 32, 3, 10)\n",
    "\n",
    "w_min, w_max = np.min(w), np.max(w)\n",
    "\n",
    "classes = ['plane', 'car', 'bird', 'cat', 'deer', 'dog', 'frog', 'horse', 'ship', 'truck']\n",
    "for i in range(10):\n",
    "    plt.subplot(2, 5, i + 1)\n",
    "    \n",
    "    # Rescale the weights to be between 0 and 255\n",
    "    wimg = 255.0 * (w[:, :, :, i].squeeze() - w_min) / (w_max - w_min)\n",
    "    plt.imshow(wimg.astype('uint8'))\n",
    "    plt.axis('off')\n",
    "    plt.title(classes[i])"
   ]
  },
  {
   "cell_type": "code",
   "execution_count": null,
   "metadata": {},
   "outputs": [],
   "source": []
  }
 ],
 "metadata": {
  "kernelspec": {
   "display_name": "Python 3",
   "language": "python",
   "name": "python3"
  },
  "language_info": {
   "codemirror_mode": {
    "name": "ipython",
    "version": 3
   },
   "file_extension": ".py",
   "mimetype": "text/x-python",
   "name": "python",
   "nbconvert_exporter": "python",
   "pygments_lexer": "ipython3",
   "version": "3.6.9"
  }
 },
 "nbformat": 4,
 "nbformat_minor": 1
}
