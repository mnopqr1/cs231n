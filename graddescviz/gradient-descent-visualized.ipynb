{
 "cells": [
  {
   "cell_type": "code",
   "execution_count": 113,
   "metadata": {},
   "outputs": [
    {
     "data": {
      "image/png": "[encoded data removed]",
      "text/plain": [
       "<Figure size 432x288 with 1 Axes>"
      ]
     },
     "metadata": {
      "needs_background": "light"
     },
     "output_type": "display_data"
    }
   ],
   "source": [
    "import matplotlib\n",
    "import matplotlib.pyplot as plt\n",
    "import numpy as np\n",
    "\n",
    "n = 20\n",
    "time = np.arange(0, n, 1.0)\n",
    "data = 0.01 * (np.random.randn(n)*3 + 0.75*(time - 9.5) ** 2 + 1)\n",
    "\n",
    "\n",
    "\n",
    "fig, ax = plt.subplots()\n",
    "ax.scatter(time, data)\n",
    "\n",
    "plt.show()"
   ]
  },
  {
   "cell_type": "code",
   "execution_count": 120,
   "metadata": {},
   "outputs": [],
   "source": [
    "target_a = 0.0075\n",
    "target_b = -19 * 0.0075\n",
    "target_c = 0.0075 * (9.5 ** 2) + .01"
   ]
  },
  {
   "cell_type": "code",
   "execution_count": 74,
   "metadata": {},
   "outputs": [],
   "source": [
    "def f(t, params):\n",
    "    a,b,c = params\n",
    "    return a * (t**2) + b * t + c"
   ]
  },
  {
   "cell_type": "code",
   "execution_count": 75,
   "metadata": {},
   "outputs": [],
   "source": [
    "def mse(preds, actual):\n",
    "    return np.square(preds-actual).mean()"
   ]
  },
  {
   "cell_type": "code",
   "execution_count": 154,
   "metadata": {},
   "outputs": [],
   "source": [
    "def loss(xs, params, actual):\n",
    "    return mse(f(xs, params), actual)"
   ]
  },
  {
   "cell_type": "code",
   "execution_count": 161,
   "metadata": {},
   "outputs": [],
   "source": [
    "def calc_grads(xs, preds, params, actual):\n",
    "    grads = np.array([0,0,0])\n",
    "    err = preds - actual\n",
    "    \n",
    "    # analytic gradient is wrong\n",
    "    grads[0] = (err * (xs ** 2 * params[0])).mean()\n",
    "    grads[1] = (err * xs * params[1]).mean()\n",
    "    grads[2] = (err * params[2]).mean()\n",
    "    \n",
    "    \n",
    "    #d/da (mse(f(x,a,b,c), s(x))) = d/da (E(f - s)^2) = 2 * E(f - s) * f'\n",
    "    \n",
    "    \n",
    "    true_loss = loss(xs, params, actual)\n",
    "    print(\"Current loss:\", true_loss)\n",
    "    \n",
    "    # gradient check\n",
    "    gradsc = np.array([0.,0.,0.])\n",
    "    d = 0.001\n",
    "    paramsa = params + np.array([d,0.,0.])\n",
    "    paramsb = params + np.array([0.,d,0.])\n",
    "    paramsc = params + np.array([0.,0.,d])\n",
    "    gradsc[0] = (loss(xs, paramsa, actual) - true_loss) / d\n",
    "    gradsc[1] = (mse(f(xs, paramsb), actual) - true_loss) / d\n",
    "    gradsc[2] = (mse(f(xs, paramsc), actual) - true_loss) / d\n",
    "    \n",
    "    #print(\"analytic gradient:\", grads)\n",
    "    #print(\"numeric gradient:\", gradsc)\n",
    "    #print(\"gradient check:\", mse(grads, gradsc))\n",
    "    return gradsc"
   ]
  },
  {
   "cell_type": "code",
   "execution_count": 136,
   "metadata": {},
   "outputs": [],
   "source": [
    "def update_params(params, grads, lr):\n",
    "    return params - lr * grads"
   ]
  },
  {
   "cell_type": "code",
   "execution_count": 150,
   "metadata": {},
   "outputs": [],
   "source": [
    "def one_step(params, lr):\n",
    "    preds = f(time, params)\n",
    "    grads = calc_grads(time, preds, params, data)\n",
    "    print(\"Current grads:\", grads)\n",
    "    #print(lr * grads)\n",
    "    return update_params(params, grads, lr)"
   ]
  },
  {
   "cell_type": "code",
   "execution_count": 180,
   "metadata": {},
   "outputs": [],
   "source": [
    "def show_preds(preds, actual, ax, a):\n",
    "    ax.scatter(time, actual)\n",
    "    ax.scatter(time, preds, color='red', alpha=a)\n",
    "    #ax.set_ylim(-300, 100)"
   ]
  },
  {
   "cell_type": "code",
   "execution_count": 185,
   "metadata": {},
   "outputs": [
    {
     "name": "stdout",
     "output_type": "stream",
     "text": [
      "Current loss: 938.053908658211\n",
      "Current grads: [-10222.31637617   -668.76313397    -46.9233032 ]\n",
      "Current params: [ 0.0075     -0.1425      6.75576456]\n",
      "Current loss: 36.7788535617929\n",
      "Current grads: [1526.77946441  115.35871175   12.12992905]\n",
      "Current params: [ 0.0075     -0.1425      5.54277165]\n",
      "Current loss: 23.537900460323215\n",
      "Current grads: [1227.1702168    92.31184655    9.70394324]\n",
      "Current params: [ 0.0075     -0.1425      4.57237733]\n",
      "Current loss: 15.063884554241435\n",
      "Current grads: [987.48281872  73.87435439   7.76315459]\n",
      "Current params: [ 0.0075     -0.1425      3.79606187]\n",
      "Current loss: 9.640669637434497\n",
      "Current grads: [795.73290025  59.12436067   6.21052368]\n",
      "Current params: [ 0.0075    -0.1425     3.1750095]\n",
      "Current loss: 6.169936301153835\n",
      "Current grads: [642.33296548  47.32436568   4.96841894]\n",
      "Current params: [ 0.0075     -0.1425      2.67816761]\n",
      "Current loss: 3.9487663343123294\n",
      "Current grads: [519.61301766  37.8843697    3.97473515]\n",
      "Current params: [ 0.0075     -0.1425      2.28069409]\n",
      "Current loss: 2.5272970502370202\n",
      "Current grads: [421.43705941  30.33237291   3.17978812]\n",
      "Current params: [ 0.0075     -0.1425      1.96271528]\n",
      "Current loss: 1.617620304191139\n",
      "Current grads: [342.8962928   24.29077548   2.5438305 ]\n",
      "Current params: [ 0.0075     -0.1425      1.70833223]\n",
      "Current loss: 1.0354780633317275\n",
      "Current grads: [280.06367952  19.45749753   2.0350644 ]\n",
      "Current params: [ 0.0075     -0.1425      1.50482579]\n",
      "Current loss: 0.66294773046965\n",
      "Current grads: [229.79758889  15.59087518   1.62805152]\n",
      "Current params: [ 0.0075     -0.1425      1.34202064]\n",
      "Current loss: 0.42456087846831314\n",
      "Current grads: [189.58471639  12.49757729   1.30244121]\n",
      "Current params: [ 0.0075     -0.1425      1.21177652]\n",
      "Current loss: 0.2720193420117393\n",
      "Current grads: [157.41441839  10.02293898   1.04195297]\n",
      "Current params: [ 0.0075     -0.1425      1.10758122]\n",
      "Current loss: 0.174413597738959\n",
      "Current grads: [131.67817999   8.04322834   0.83356238]\n",
      "Current params: [ 0.0075     -0.1425      1.02422498]\n",
      "Current loss: 0.1119625926519158\n",
      "Current grads: [111.08918927   6.45945982   0.6668499 ]\n",
      "Current params: [ 0.0075     -0.1425      0.95753999]\n",
      "Current loss: 0.07200728639424382\n",
      "Current grads: [94.61799669  5.19244501  0.53347992]\n",
      "Current params: [ 0.0075   -0.1425    0.904192]\n",
      "Current loss: 0.04644655998775921\n",
      "Current grads: [81.44104263  4.17883316  0.42678394]\n",
      "Current params: [ 0.0075    -0.1425     0.8615136]\n",
      "Current loss: 0.030096230766352604\n",
      "Current grads: [70.89947938  3.36794368  0.34142715]\n",
      "Current params: [ 0.0075     -0.1425      0.82737089]\n",
      "Current loss: 0.019638848607647915\n",
      "Current grads: [62.46622878  2.71923209  0.27314172]\n",
      "Current params: [ 0.0075     -0.1425      0.80005672]\n",
      "Current loss: 0.012951586860473138\n",
      "Current grads: [55.7196283   2.20026282  0.21851338]\n",
      "Current params: [ 0.0075     -0.1425      0.77820538]\n",
      "Current loss: 0.008676109609798319\n",
      "Current grads: [50.32234792  1.78508741  0.1748107 ]\n",
      "Current params: [ 0.0075     -0.1425      0.76072431]\n",
      "Current loss: 0.005943300383380007\n",
      "Current grads: [46.00452361  1.45294708  0.13984856]\n",
      "Current params: [ 0.0075     -0.1425      0.74673945]\n",
      "Current loss: 0.00419709944968315\n",
      "Current grads: [42.55026417  1.18723481  0.11187885]\n",
      "Current params: [ 0.0075     -0.1425      0.73555157]\n",
      "Current loss: 0.003081768429085878\n",
      "Current grads: [39.78685661  0.974665    0.08950308]\n",
      "Current params: [ 0.0075     -0.1425      0.72660126]\n",
      "Current loss: 0.0023697466374785784\n",
      "Current grads: [37.57613056  0.80460915  0.07160246]\n",
      "Current params: [ 0.0075     -0.1425      0.71944102]\n",
      "Current loss: 0.001915484740109873\n",
      "Current grads: [35.80754973  0.66856447  0.05728197]\n",
      "Current params: [ 0.0075     -0.1425      0.71371282]\n",
      "Current loss: 0.0016259027652018765\n",
      "Current grads: [34.39268506  0.55972873  0.04582558]\n",
      "Current params: [ 0.0075     -0.1425      0.70913026]\n",
      "Current loss: 0.0014414868127871378\n",
      "Current grads: [33.26079332  0.47266013  0.03666046]\n",
      "Current params: [ 0.0075     -0.1425      0.70546421]\n",
      "Current loss: 0.0013241938124628054\n",
      "Current grads: [3.23552799e+01 4.03005256e-01 2.93283688e-02]\n",
      "Current params: [ 0.0075     -0.1425      0.70253138]\n",
      "Current loss: 0.0012497128596321153\n",
      "Current grads: [3.16308692e+01 3.47281356e-01 2.34626951e-02]\n",
      "Current params: [ 0.0075     -0.1425      0.70018511]\n",
      "Current loss: 0.001202514303721981\n",
      "Current grads: [3.10513407e+01 3.02702235e-01 1.87701561e-02]\n",
      "Current params: [ 0.0075     -0.1425      0.69830809]\n",
      "Current loss: 0.0011726826310606993\n",
      "Current grads: [3.05877178e+01 2.67038938e-01 1.50161248e-02]\n",
      "Current params: [ 0.0075     -0.1425      0.69680648]\n",
      "Current loss: 0.0011538906830544432\n",
      "Current grads: [3.02168195e+01 2.38508301e-01 1.20128999e-02]\n",
      "Current params: [ 0.0075     -0.1425      0.69560519]\n",
      "Current loss: 0.0011421040943280106\n",
      "Current grads: [2.99201009e+01 2.15683791e-01 9.61031990e-03]\n",
      "Current params: [ 0.0075     -0.1425      0.69464416]\n",
      "Current loss: 0.0011347528839411498\n",
      "Current grads: [2.96827260e+01 1.97424184e-01 7.68825592e-03]\n",
      "Current params: [ 0.0075     -0.1425      0.69387533]\n",
      "Current loss: 0.0011302018744120048\n",
      "Current grads: [2.94928261e+01 1.82816497e-01 6.15060474e-03]\n",
      "Current params: [ 0.0075     -0.1425      0.69326027]\n",
      "Current loss: 0.0011274122404081083\n",
      "Current grads: [2.93409061e+01 1.71130348e-01 4.92048379e-03]\n",
      "Current params: [ 0.0075     -0.1425      0.69276822]\n",
      "Current loss: 0.0011257252843214194\n",
      "Current grads: [2.92193702e+01 1.61781429e-01 3.93638703e-03]\n",
      "Current params: [ 0.0075     -0.1425      0.69237458]\n",
      "Current loss: 0.0011247243601665824\n",
      "Current grads: [2.91221414e+01 1.54302294e-01 3.14910963e-03]\n",
      "Current params: [ 0.0075     -0.1425      0.69205967]\n",
      "Current loss: 0.001124146750900002\n",
      "Current grads: [2.90443584e+01 1.48318986e-01 2.51928770e-03]\n",
      "Current params: [ 0.0075     -0.1425      0.69180775]\n",
      "Current loss: 0.001123827466723403\n",
      "Current grads: [2.89821320e+01 1.43532339e-01 2.01543016e-03]\n",
      "Current params: [ 0.0075    -0.1425     0.6916062]\n",
      "Current loss: 0.0011236634334535892\n",
      "Current grads: [2.89323509e+01 1.39703022e-01 1.61234413e-03]\n",
      "Current params: [ 0.0075     -0.1425      0.69144497]\n",
      "Current loss: 0.0011235906990434766\n",
      "Current grads: [2.88925260e+01 1.36639568e-01 1.28987530e-03]\n",
      "Current params: [ 0.0075     -0.1425      0.69131598]\n",
      "Current loss: 0.0011235699465270584\n",
      "Current grads: [2.88606661e+01 1.34188805e-01 1.03190024e-03]\n",
      "Current params: [ 0.0075     -0.1425      0.69121279]\n",
      "Current loss: 0.001123577302921394\n",
      "Current grads: [2.88351781e+01 1.32228194e-01 8.25520194e-04]\n",
      "Current params: [ 0.0075     -0.1425      0.69113024]\n",
      "Current loss: 0.0011235985214176438\n",
      "Current grads: [2.88147878e+01 1.30659706e-01 6.60416155e-04]\n",
      "Current params: [ 0.0075    -0.1425     0.6910642]\n",
      "Current loss: 0.0011236253095783437\n",
      "Current grads: [2.87984755e+01 1.29404915e-01 5.28332924e-04]\n",
      "Current params: [ 0.0075     -0.1425      0.69101136]\n",
      "Current loss: 0.001123653020659671\n",
      "Current grads: [2.87854257e+01 1.28401083e-01 4.22666339e-04]\n",
      "Current params: [ 0.0075    -0.1425     0.6909691]\n",
      "Current loss: 0.0011236792090785046\n",
      "Current grads: [2.87749858e+01 1.27598017e-01 3.38133071e-04]\n",
      "Current params: [ 0.0075     -0.1425      0.69093528]\n",
      "Current loss: 0.0011237027323279848\n",
      "Current grads: [2.87666339e+01 1.26955564e-01 2.70506457e-04]\n",
      "Current params: [ 0.0075     -0.1425      0.69090823]\n"
     ]
    },
    {
     "data": {
      "image/png": "[encoded data removed]",
      "text/plain": [
       "<Figure size 432x288 with 1 Axes>"
      ]
     },
     "metadata": {
      "needs_background": "light"
     },
     "output_type": "display_data"
    }
   ],
   "source": [
    "steps = 50\n",
    "fig, ax = plt.subplots()\n",
    "params = np.random.randn(3)\n",
    "#params = (target_a, target_b, np.random.randn(1).item())\n",
    "for i in range(steps):\n",
    "    #print(params)\n",
    "    show_preds(f(time,params), data, ax, i/steps)\n",
    "    params = one_step(params, lr=np.array([1, .001, 0.1]))\n",
    "    params[0] = target_a\n",
    "    params[1] = target_b\n",
    "    ax.set_ylim(-1, 1)\n",
    "    print(\"Current params:\", params)\n",
    "plt.show()\n",
    "#show_preds(f(time,params), data, plt.subplots()[1])\n",
    "#print(time)"
   ]
  },
  {
   "cell_type": "code",
   "execution_count": 72,
   "metadata": {},
   "outputs": [
    {
     "ename": "NameError",
     "evalue": "name 'beta_pdf' is not defined",
     "output_type": "error",
     "traceback": [
      "\u001b[0;31m---------------------------------------------------------------------------\u001b[0m",
      "\u001b[0;31mNameError\u001b[0m                                 Traceback (most recent call last)",
      "\u001b[0;32m<ipython-input-72-88b960c8a5ee>\u001b[0m in \u001b[0;36m<module>\u001b[0;34m\u001b[0m\n\u001b[1;32m     48\u001b[0m \u001b[0;34m\u001b[0m\u001b[0m\n\u001b[1;32m     49\u001b[0m \u001b[0;32mfrom\u001b[0m \u001b[0mIPython\u001b[0m\u001b[0;34m.\u001b[0m\u001b[0mdisplay\u001b[0m \u001b[0;32mimport\u001b[0m \u001b[0mHTML\u001b[0m\u001b[0;34m\u001b[0m\u001b[0;34m\u001b[0m\u001b[0m\n\u001b[0;32m---> 50\u001b[0;31m \u001b[0mHTML\u001b[0m\u001b[0;34m(\u001b[0m\u001b[0manim\u001b[0m\u001b[0;34m.\u001b[0m\u001b[0mto_jshtml\u001b[0m\u001b[0;34m(\u001b[0m\u001b[0;34m)\u001b[0m\u001b[0;34m)\u001b[0m\u001b[0;34m\u001b[0m\u001b[0;34m\u001b[0m\u001b[0m\n\u001b[0m",
      "\u001b[0;32m~/.local/lib/python3.6/site-packages/matplotlib/animation.py\u001b[0m in \u001b[0;36mto_jshtml\u001b[0;34m(self, fps, embed_frames, default_mode)\u001b[0m\n\u001b[1;32m   1378\u001b[0m                                     \u001b[0membed_frames\u001b[0m\u001b[0;34m=\u001b[0m\u001b[0membed_frames\u001b[0m\u001b[0;34m,\u001b[0m\u001b[0;34m\u001b[0m\u001b[0;34m\u001b[0m\u001b[0m\n\u001b[1;32m   1379\u001b[0m                                     default_mode=default_mode)\n\u001b[0;32m-> 1380\u001b[0;31m                 \u001b[0mself\u001b[0m\u001b[0;34m.\u001b[0m\u001b[0msave\u001b[0m\u001b[0;34m(\u001b[0m\u001b[0mstr\u001b[0m\u001b[0;34m(\u001b[0m\u001b[0mpath\u001b[0m\u001b[0;34m)\u001b[0m\u001b[0;34m,\u001b[0m \u001b[0mwriter\u001b[0m\u001b[0;34m=\u001b[0m\u001b[0mwriter\u001b[0m\u001b[0;34m)\u001b[0m\u001b[0;34m\u001b[0m\u001b[0;34m\u001b[0m\u001b[0m\n\u001b[0m\u001b[1;32m   1381\u001b[0m                 \u001b[0mself\u001b[0m\u001b[0;34m.\u001b[0m\u001b[0m_html_representation\u001b[0m \u001b[0;34m=\u001b[0m \u001b[0mpath\u001b[0m\u001b[0;34m.\u001b[0m\u001b[0mread_text\u001b[0m\u001b[0;34m(\u001b[0m\u001b[0;34m)\u001b[0m\u001b[0;34m\u001b[0m\u001b[0;34m\u001b[0m\u001b[0m\n\u001b[1;32m   1382\u001b[0m \u001b[0;34m\u001b[0m\u001b[0m\n",
      "\u001b[0;32m~/.local/lib/python3.6/site-packages/matplotlib/animation.py\u001b[0m in \u001b[0;36msave\u001b[0;34m(self, filename, writer, fps, dpi, codec, bitrate, extra_args, metadata, extra_anim, savefig_kwargs, progress_callback)\u001b[0m\n\u001b[1;32m   1150\u001b[0m                     \u001b[0;32mfor\u001b[0m \u001b[0manim\u001b[0m\u001b[0;34m,\u001b[0m \u001b[0md\u001b[0m \u001b[0;32min\u001b[0m \u001b[0mzip\u001b[0m\u001b[0;34m(\u001b[0m\u001b[0mall_anim\u001b[0m\u001b[0;34m,\u001b[0m \u001b[0mdata\u001b[0m\u001b[0;34m)\u001b[0m\u001b[0;34m:\u001b[0m\u001b[0;34m\u001b[0m\u001b[0;34m\u001b[0m\u001b[0m\n\u001b[1;32m   1151\u001b[0m                         \u001b[0;31m# TODO: See if turning off blit is really necessary\u001b[0m\u001b[0;34m\u001b[0m\u001b[0;34m\u001b[0m\u001b[0;34m\u001b[0m\u001b[0m\n\u001b[0;32m-> 1152\u001b[0;31m                         \u001b[0manim\u001b[0m\u001b[0;34m.\u001b[0m\u001b[0m_draw_next_frame\u001b[0m\u001b[0;34m(\u001b[0m\u001b[0md\u001b[0m\u001b[0;34m,\u001b[0m \u001b[0mblit\u001b[0m\u001b[0;34m=\u001b[0m\u001b[0;32mFalse\u001b[0m\u001b[0;34m)\u001b[0m\u001b[0;34m\u001b[0m\u001b[0;34m\u001b[0m\u001b[0m\n\u001b[0m\u001b[1;32m   1153\u001b[0m                         \u001b[0;32mif\u001b[0m \u001b[0mprogress_callback\u001b[0m \u001b[0;32mis\u001b[0m \u001b[0;32mnot\u001b[0m \u001b[0;32mNone\u001b[0m\u001b[0;34m:\u001b[0m\u001b[0;34m\u001b[0m\u001b[0;34m\u001b[0m\u001b[0m\n\u001b[1;32m   1154\u001b[0m                             \u001b[0mprogress_callback\u001b[0m\u001b[0;34m(\u001b[0m\u001b[0mframe_number\u001b[0m\u001b[0;34m,\u001b[0m \u001b[0mtotal_frames\u001b[0m\u001b[0;34m)\u001b[0m\u001b[0;34m\u001b[0m\u001b[0;34m\u001b[0m\u001b[0m\n",
      "\u001b[0;32m~/.local/lib/python3.6/site-packages/matplotlib/animation.py\u001b[0m in \u001b[0;36m_draw_next_frame\u001b[0;34m(self, framedata, blit)\u001b[0m\n\u001b[1;32m   1190\u001b[0m         \u001b[0;31m# post- draw, as well as the drawing of the frame itself.\u001b[0m\u001b[0;34m\u001b[0m\u001b[0;34m\u001b[0m\u001b[0;34m\u001b[0m\u001b[0m\n\u001b[1;32m   1191\u001b[0m         \u001b[0mself\u001b[0m\u001b[0;34m.\u001b[0m\u001b[0m_pre_draw\u001b[0m\u001b[0;34m(\u001b[0m\u001b[0mframedata\u001b[0m\u001b[0;34m,\u001b[0m \u001b[0mblit\u001b[0m\u001b[0;34m)\u001b[0m\u001b[0;34m\u001b[0m\u001b[0;34m\u001b[0m\u001b[0m\n\u001b[0;32m-> 1192\u001b[0;31m         \u001b[0mself\u001b[0m\u001b[0;34m.\u001b[0m\u001b[0m_draw_frame\u001b[0m\u001b[0;34m(\u001b[0m\u001b[0mframedata\u001b[0m\u001b[0;34m)\u001b[0m\u001b[0;34m\u001b[0m\u001b[0;34m\u001b[0m\u001b[0m\n\u001b[0m\u001b[1;32m   1193\u001b[0m         \u001b[0mself\u001b[0m\u001b[0;34m.\u001b[0m\u001b[0m_post_draw\u001b[0m\u001b[0;34m(\u001b[0m\u001b[0mframedata\u001b[0m\u001b[0;34m,\u001b[0m \u001b[0mblit\u001b[0m\u001b[0;34m)\u001b[0m\u001b[0;34m\u001b[0m\u001b[0;34m\u001b[0m\u001b[0m\n\u001b[1;32m   1194\u001b[0m \u001b[0;34m\u001b[0m\u001b[0m\n",
      "\u001b[0;32m~/.local/lib/python3.6/site-packages/matplotlib/animation.py\u001b[0m in \u001b[0;36m_draw_frame\u001b[0;34m(self, framedata)\u001b[0m\n\u001b[1;32m   1753\u001b[0m         \u001b[0;31m# Call the func with framedata and args. If blitting is desired,\u001b[0m\u001b[0;34m\u001b[0m\u001b[0;34m\u001b[0m\u001b[0;34m\u001b[0m\u001b[0m\n\u001b[1;32m   1754\u001b[0m         \u001b[0;31m# func needs to return a sequence of any artists that were modified.\u001b[0m\u001b[0;34m\u001b[0m\u001b[0;34m\u001b[0m\u001b[0;34m\u001b[0m\u001b[0m\n\u001b[0;32m-> 1755\u001b[0;31m         \u001b[0mself\u001b[0m\u001b[0;34m.\u001b[0m\u001b[0m_drawn_artists\u001b[0m \u001b[0;34m=\u001b[0m \u001b[0mself\u001b[0m\u001b[0;34m.\u001b[0m\u001b[0m_func\u001b[0m\u001b[0;34m(\u001b[0m\u001b[0mframedata\u001b[0m\u001b[0;34m,\u001b[0m \u001b[0;34m*\u001b[0m\u001b[0mself\u001b[0m\u001b[0;34m.\u001b[0m\u001b[0m_args\u001b[0m\u001b[0;34m)\u001b[0m\u001b[0;34m\u001b[0m\u001b[0;34m\u001b[0m\u001b[0m\n\u001b[0m\u001b[1;32m   1756\u001b[0m         \u001b[0;32mif\u001b[0m \u001b[0mself\u001b[0m\u001b[0;34m.\u001b[0m\u001b[0m_blit\u001b[0m\u001b[0;34m:\u001b[0m\u001b[0;34m\u001b[0m\u001b[0;34m\u001b[0m\u001b[0m\n\u001b[1;32m   1757\u001b[0m             \u001b[0;32mif\u001b[0m \u001b[0mself\u001b[0m\u001b[0;34m.\u001b[0m\u001b[0m_drawn_artists\u001b[0m \u001b[0;32mis\u001b[0m \u001b[0;32mNone\u001b[0m\u001b[0;34m:\u001b[0m\u001b[0;34m\u001b[0m\u001b[0;34m\u001b[0m\u001b[0m\n",
      "\u001b[0;32m<ipython-input-72-88b960c8a5ee>\u001b[0m in \u001b[0;36m__call__\u001b[0;34m(self, i)\u001b[0m\n\u001b[1;32m     34\u001b[0m         \u001b[0;32mif\u001b[0m \u001b[0mnp\u001b[0m\u001b[0;34m.\u001b[0m\u001b[0mrandom\u001b[0m\u001b[0;34m.\u001b[0m\u001b[0mrand\u001b[0m\u001b[0;34m(\u001b[0m\u001b[0;36m1\u001b[0m\u001b[0;34m,\u001b[0m\u001b[0;34m)\u001b[0m \u001b[0;34m<\u001b[0m \u001b[0mself\u001b[0m\u001b[0;34m.\u001b[0m\u001b[0mprob\u001b[0m\u001b[0;34m:\u001b[0m\u001b[0;34m\u001b[0m\u001b[0;34m\u001b[0m\u001b[0m\n\u001b[1;32m     35\u001b[0m             \u001b[0mself\u001b[0m\u001b[0;34m.\u001b[0m\u001b[0msuccess\u001b[0m \u001b[0;34m+=\u001b[0m \u001b[0;36m1\u001b[0m\u001b[0;34m\u001b[0m\u001b[0;34m\u001b[0m\u001b[0m\n\u001b[0;32m---> 36\u001b[0;31m         \u001b[0my\u001b[0m \u001b[0;34m=\u001b[0m \u001b[0mbeta_pdf\u001b[0m\u001b[0;34m(\u001b[0m\u001b[0mself\u001b[0m\u001b[0;34m.\u001b[0m\u001b[0mx\u001b[0m\u001b[0;34m,\u001b[0m \u001b[0mself\u001b[0m\u001b[0;34m.\u001b[0m\u001b[0msuccess\u001b[0m \u001b[0;34m+\u001b[0m \u001b[0;36m1\u001b[0m\u001b[0;34m,\u001b[0m \u001b[0;34m(\u001b[0m\u001b[0mi\u001b[0m \u001b[0;34m-\u001b[0m \u001b[0mself\u001b[0m\u001b[0;34m.\u001b[0m\u001b[0msuccess\u001b[0m\u001b[0;34m)\u001b[0m \u001b[0;34m+\u001b[0m \u001b[0;36m1\u001b[0m\u001b[0;34m)\u001b[0m\u001b[0;34m\u001b[0m\u001b[0;34m\u001b[0m\u001b[0m\n\u001b[0m\u001b[1;32m     37\u001b[0m         \u001b[0mself\u001b[0m\u001b[0;34m.\u001b[0m\u001b[0mline\u001b[0m\u001b[0;34m.\u001b[0m\u001b[0mset_data\u001b[0m\u001b[0;34m(\u001b[0m\u001b[0mself\u001b[0m\u001b[0;34m.\u001b[0m\u001b[0mx\u001b[0m\u001b[0;34m,\u001b[0m \u001b[0my\u001b[0m\u001b[0;34m)\u001b[0m\u001b[0;34m\u001b[0m\u001b[0;34m\u001b[0m\u001b[0m\n\u001b[1;32m     38\u001b[0m         \u001b[0;32mreturn\u001b[0m \u001b[0mself\u001b[0m\u001b[0;34m.\u001b[0m\u001b[0mline\u001b[0m\u001b[0;34m,\u001b[0m\u001b[0;34m\u001b[0m\u001b[0;34m\u001b[0m\u001b[0m\n",
      "\u001b[0;31mNameError\u001b[0m: name 'beta_pdf' is not defined"
     ]
    },
    {
     "data": {
      "image/png": "[encoded data removed]",
      "text/plain": [
       "<Figure size 432x288 with 1 Axes>"
      ]
     },
     "metadata": {
      "needs_background": "light"
     },
     "output_type": "display_data"
    }
   ],
   "source": [
    "import math\n",
    "\n",
    "import numpy as np\n",
    "import matplotlib.pyplot as plt\n",
    "from matplotlib.animation import FuncAnimation\n",
    "\n",
    "\n",
    "class UpdateDist:\n",
    "    def __init__(self, ax, prob=0.5):\n",
    "        self.success = 0\n",
    "        self.prob = prob\n",
    "        self.line, = ax.plot([], [], 'k-')\n",
    "        self.x = np.linspace(0, 1, 200)\n",
    "        self.ax = ax\n",
    "\n",
    "        # Set up plot parameters\n",
    "        self.ax.set_xlim(0, 1)\n",
    "        self.ax.set_ylim(0, 10)\n",
    "        self.ax.grid(True)\n",
    "\n",
    "        # This vertical line represents the theoretical value, to\n",
    "        # which the plotted distribution should converge.\n",
    "        self.ax.axvline(prob, linestyle='--', color='black')\n",
    "\n",
    "    def __call__(self, i):\n",
    "        # This way the plot can continuously run and we just keep\n",
    "        # watching new realizations of the process\n",
    "        if i == 0:\n",
    "            self.success = 0\n",
    "            self.line.set_data([], [])\n",
    "            return self.line,\n",
    "\n",
    "        # Choose success based on exceed a threshold with a uniform pick\n",
    "        if np.random.rand(1,) < self.prob:\n",
    "            self.success += 1\n",
    "        y = beta_pdf(self.x, self.success + 1, (i - self.success) + 1)\n",
    "        self.line.set_data(self.x, y)\n",
    "        return self.line,\n",
    "\n",
    "# Fixing random state for reproducibility\n",
    "np.random.seed(19680801)\n",
    "\n",
    "\n",
    "fig, ax = plt.subplots()\n",
    "ud = UpdateDist(ax, prob=0.7)\n",
    "anim = FuncAnimation(fig, ud, frames=100, interval=100, blit=True)\n",
    "#plt.show()\n",
    "\n",
    "from IPython.display import HTML\n",
    "HTML(anim.to_jshtml())"
   ]
  },
  {
   "cell_type": "code",
   "execution_count": null,
   "metadata": {},
   "outputs": [],
   "source": []
  },
  {
   "cell_type": "code",
   "execution_count": null,
   "metadata": {},
   "outputs": [],
   "source": []
  }
 ],
 "metadata": {
  "kernelspec": {
   "display_name": "Python 3",
   "language": "python",
   "name": "python3"
  },
  "language_info": {
   "codemirror_mode": {
    "name": "ipython",
    "version": 3
   },
   "file_extension": ".py",
   "mimetype": "text/x-python",
   "name": "python",
   "nbconvert_exporter": "python",
   "pygments_lexer": "ipython3",
   "version": "3.6.9"
  }
 },
 "nbformat": 4,
 "nbformat_minor": 4
}
